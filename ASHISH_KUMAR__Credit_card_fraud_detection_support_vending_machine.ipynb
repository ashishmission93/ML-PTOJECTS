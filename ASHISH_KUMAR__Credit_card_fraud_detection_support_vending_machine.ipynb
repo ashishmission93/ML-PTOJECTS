{
  "metadata": {
    "kernelspec": {
      "language": "python",
      "display_name": "Python 3",
      "name": "python3"
    },
    "language_info": {
      "name": "python",
      "version": "3.10.12",
      "mimetype": "text/x-python",
      "codemirror_mode": {
        "name": "ipython",
        "version": 3
      },
      "pygments_lexer": "ipython3",
      "nbconvert_exporter": "python",
      "file_extension": ".py"
    },
    "colab": {
      "provenance": [],
      "include_colab_link": true
    }
  },
  "nbformat_minor": 0,
  "nbformat": 4,
  "cells": [
    {
      "cell_type": "markdown",
      "metadata": {
        "id": "view-in-github",
        "colab_type": "text"
      },
      "source": [
        "<a href=\"https://colab.research.google.com/github/ashishmission93/ML-PTOJECTS/blob/main/ASHISH_KUMAR__Credit_card_fraud_detection_support_vending_machine.ipynb\" target=\"_parent\"><img src=\"https://colab.research.google.com/assets/colab-badge.svg\" alt=\"Open In Colab\"/></a>"
      ]
    },
    {
      "cell_type": "markdown",
      "source": [
        "# Credit Card Fraud Detection - Support Vector Machines\n",
        "\n",
        "The provided code is highly valuable in the context of detecting fraudulent transactions using machine learning, specifically Support Vector Machines (SVM). Here's a note on how this code is useful in identifying fraudulent transactions:\n",
        "\n",
        "1. Addressing Class Imbalance:\n",
        "One of the major challenges in credit card fraud detection is the significant class imbalance between legitimate and fraudulent transactions. The code addresses this issue through undersampling, ensuring that the model is trained on a more balanced dataset. This step is crucial as it prevents the model from being biased toward classifying most transactions as legitimate, which is often the majority class.\n",
        "\n",
        "2. Effective Feature Engineering:\n",
        "The code performs feature engineering by standardizing the \"Amount\" column using the StandardScaler. Standardization ensures that all features are on the same scale, making them more suitable for SVM and improving model performance.\n",
        "\n",
        "3. Utilizing Support Vector Machines (SVM):\n",
        "SVM is a powerful classification algorithm that excels at finding the optimal boundary between two classes. It can identify complex patterns in the data, making it well-suited for detecting fraudulent transactions, which often exhibit subtle and non-linear characteristics.\n",
        "\n",
        "4. Model Evaluation and Metrics:\n",
        "The code goes beyond just model training; it evaluates the SVM model's performance using a range of metrics. These metrics include accuracy, precision, recall, and F1 score. These evaluation metrics are critical in assessing the model's ability to correctly classify transactions and minimize both false positives and false negatives.\n",
        "\n",
        "5. Visualizations for Insight:\n",
        "The code provides visualizations of the Receiver Operating Characteristic (ROC) curve and the Precision-Recall curve. These visualizations offer a clear understanding of how well the model distinguishes between legitimate and fraudulent transactions and the trade-off between precision and recall. High precision ensures that when the model identifies a transaction as fraudulent, it's very likely to be correct. High recall means the model captures a significant portion of the actual fraudulent transactions.\n",
        "\n",
        "6. Real-World Application:\n",
        "The code can be deployed in real-time systems, such as credit card payment gateways or banking systems, to detect fraudulent transactions as they occur. Its ability to handle class imbalance, effective feature engineering, and the power of SVM make it a valuable tool for safeguarding businesses and consumers from financial losses.\n",
        "\n",
        "In conclusion, this code is a fundamental step in the development of a credit card fraud detection system. It demonstrates the process of data preprocessing, model training, evaluation, and visualization, all of which are essential in building a reliable and effective model for identifying and preventing fraudulent transactions in real-time. By addressing the challenges associated with class imbalance and leveraging the strengths of SVM, this code significantly contributes to the security and trust of financial transactions for businesses and consumers."
      ],
      "metadata": {
        "id": "qmePJrJodpXk"
      }
    },
    {
      "cell_type": "markdown",
      "source": [
        "## Import Libraries"
      ],
      "metadata": {
        "id": "dGSST3KsdpXo"
      }
    },
    {
      "cell_type": "code",
      "source": [
        "import pandas as pd\n",
        "import numpy as np\n",
        "import matplotlib.pyplot as plt\n",
        "import seaborn as sns\n",
        "%matplotlib inline"
      ],
      "metadata": {
        "id": "hlNfrSC1PGfZ",
        "execution": {
          "iopub.status.busy": "2023-10-27T13:47:50.997781Z",
          "iopub.execute_input": "2023-10-27T13:47:50.998187Z",
          "iopub.status.idle": "2023-10-27T13:47:53.444398Z",
          "shell.execute_reply.started": "2023-10-27T13:47:50.998152Z",
          "shell.execute_reply": "2023-10-27T13:47:53.436856Z"
        },
        "trusted": true
      },
      "execution_count": null,
      "outputs": []
    },
    {
      "cell_type": "markdown",
      "source": [
        "## Get the Data"
      ],
      "metadata": {
        "id": "i8rcsuoqdpXq"
      }
    },
    {
      "cell_type": "code",
      "source": [
        "# loading the dataset to a Pandas DataFrame\n",
        "credit_card_data = pd.read_csv('/kaggle/input/creditcardfraud/creditcard.csv')"
      ],
      "metadata": {
        "id": "W0CTsNioTKnJ",
        "execution": {
          "iopub.status.busy": "2023-10-27T13:47:53.449110Z",
          "iopub.execute_input": "2023-10-27T13:47:53.451304Z",
          "iopub.status.idle": "2023-10-27T13:48:00.266018Z",
          "shell.execute_reply.started": "2023-10-27T13:47:53.451256Z",
          "shell.execute_reply": "2023-10-27T13:48:00.265006Z"
        },
        "trusted": true
      },
      "execution_count": null,
      "outputs": []
    },
    {
      "cell_type": "code",
      "source": [
        "credit_card_data.keys()"
      ],
      "metadata": {
        "execution": {
          "iopub.status.busy": "2023-10-27T13:48:00.271039Z",
          "iopub.execute_input": "2023-10-27T13:48:00.273339Z",
          "iopub.status.idle": "2023-10-27T13:48:00.284365Z",
          "shell.execute_reply.started": "2023-10-27T13:48:00.273297Z",
          "shell.execute_reply": "2023-10-27T13:48:00.283512Z"
        },
        "trusted": true,
        "id": "e8CwiKSXdpXr",
        "outputId": "07168694-fcd7-44ec-c5d3-4abd1a8c52ba"
      },
      "execution_count": null,
      "outputs": [
        {
          "execution_count": 3,
          "output_type": "execute_result",
          "data": {
            "text/plain": "Index(['Time', 'V1', 'V2', 'V3', 'V4', 'V5', 'V6', 'V7', 'V8', 'V9', 'V10',\n       'V11', 'V12', 'V13', 'V14', 'V15', 'V16', 'V17', 'V18', 'V19', 'V20',\n       'V21', 'V22', 'V23', 'V24', 'V25', 'V26', 'V27', 'V28', 'Amount',\n       'Class'],\n      dtype='object')"
          },
          "metadata": {}
        }
      ]
    },
    {
      "cell_type": "code",
      "source": [
        "# first 5 rows of the dataset\n",
        "credit_card_data.head()"
      ],
      "metadata": {
        "id": "o_iMfyHsTa6s",
        "outputId": "318bdb4d-9f20-4789-c6e6-9b2de1aad091",
        "execution": {
          "iopub.status.busy": "2023-10-27T13:48:00.289912Z",
          "iopub.execute_input": "2023-10-27T13:48:00.292711Z",
          "iopub.status.idle": "2023-10-27T13:48:00.341229Z",
          "shell.execute_reply.started": "2023-10-27T13:48:00.292670Z",
          "shell.execute_reply": "2023-10-27T13:48:00.340322Z"
        },
        "trusted": true
      },
      "execution_count": null,
      "outputs": [
        {
          "execution_count": 4,
          "output_type": "execute_result",
          "data": {
            "text/plain": "   Time        V1        V2        V3        V4        V5        V6        V7  \\\n0   0.0 -1.359807 -0.072781  2.536347  1.378155 -0.338321  0.462388  0.239599   \n1   0.0  1.191857  0.266151  0.166480  0.448154  0.060018 -0.082361 -0.078803   \n2   1.0 -1.358354 -1.340163  1.773209  0.379780 -0.503198  1.800499  0.791461   \n3   1.0 -0.966272 -0.185226  1.792993 -0.863291 -0.010309  1.247203  0.237609   \n4   2.0 -1.158233  0.877737  1.548718  0.403034 -0.407193  0.095921  0.592941   \n\n         V8        V9  ...       V21       V22       V23       V24       V25  \\\n0  0.098698  0.363787  ... -0.018307  0.277838 -0.110474  0.066928  0.128539   \n1  0.085102 -0.255425  ... -0.225775 -0.638672  0.101288 -0.339846  0.167170   \n2  0.247676 -1.514654  ...  0.247998  0.771679  0.909412 -0.689281 -0.327642   \n3  0.377436 -1.387024  ... -0.108300  0.005274 -0.190321 -1.175575  0.647376   \n4 -0.270533  0.817739  ... -0.009431  0.798278 -0.137458  0.141267 -0.206010   \n\n        V26       V27       V28  Amount  Class  \n0 -0.189115  0.133558 -0.021053  149.62      0  \n1  0.125895 -0.008983  0.014724    2.69      0  \n2 -0.139097 -0.055353 -0.059752  378.66      0  \n3 -0.221929  0.062723  0.061458  123.50      0  \n4  0.502292  0.219422  0.215153   69.99      0  \n\n[5 rows x 31 columns]",
            "text/html": "<div>\n<style scoped>\n    .dataframe tbody tr th:only-of-type {\n        vertical-align: middle;\n    }\n\n    .dataframe tbody tr th {\n        vertical-align: top;\n    }\n\n    .dataframe thead th {\n        text-align: right;\n    }\n</style>\n<table border=\"1\" class=\"dataframe\">\n  <thead>\n    <tr style=\"text-align: right;\">\n      <th></th>\n      <th>Time</th>\n      <th>V1</th>\n      <th>V2</th>\n      <th>V3</th>\n      <th>V4</th>\n      <th>V5</th>\n      <th>V6</th>\n      <th>V7</th>\n      <th>V8</th>\n      <th>V9</th>\n      <th>...</th>\n      <th>V21</th>\n      <th>V22</th>\n      <th>V23</th>\n      <th>V24</th>\n      <th>V25</th>\n      <th>V26</th>\n      <th>V27</th>\n      <th>V28</th>\n      <th>Amount</th>\n      <th>Class</th>\n    </tr>\n  </thead>\n  <tbody>\n    <tr>\n      <th>0</th>\n      <td>0.0</td>\n      <td>-1.359807</td>\n      <td>-0.072781</td>\n      <td>2.536347</td>\n      <td>1.378155</td>\n      <td>-0.338321</td>\n      <td>0.462388</td>\n      <td>0.239599</td>\n      <td>0.098698</td>\n      <td>0.363787</td>\n      <td>...</td>\n      <td>-0.018307</td>\n      <td>0.277838</td>\n      <td>-0.110474</td>\n      <td>0.066928</td>\n      <td>0.128539</td>\n      <td>-0.189115</td>\n      <td>0.133558</td>\n      <td>-0.021053</td>\n      <td>149.62</td>\n      <td>0</td>\n    </tr>\n    <tr>\n      <th>1</th>\n      <td>0.0</td>\n      <td>1.191857</td>\n      <td>0.266151</td>\n      <td>0.166480</td>\n      <td>0.448154</td>\n      <td>0.060018</td>\n      <td>-0.082361</td>\n      <td>-0.078803</td>\n      <td>0.085102</td>\n      <td>-0.255425</td>\n      <td>...</td>\n      <td>-0.225775</td>\n      <td>-0.638672</td>\n      <td>0.101288</td>\n      <td>-0.339846</td>\n      <td>0.167170</td>\n      <td>0.125895</td>\n      <td>-0.008983</td>\n      <td>0.014724</td>\n      <td>2.69</td>\n      <td>0</td>\n    </tr>\n    <tr>\n      <th>2</th>\n      <td>1.0</td>\n      <td>-1.358354</td>\n      <td>-1.340163</td>\n      <td>1.773209</td>\n      <td>0.379780</td>\n      <td>-0.503198</td>\n      <td>1.800499</td>\n      <td>0.791461</td>\n      <td>0.247676</td>\n      <td>-1.514654</td>\n      <td>...</td>\n      <td>0.247998</td>\n      <td>0.771679</td>\n      <td>0.909412</td>\n      <td>-0.689281</td>\n      <td>-0.327642</td>\n      <td>-0.139097</td>\n      <td>-0.055353</td>\n      <td>-0.059752</td>\n      <td>378.66</td>\n      <td>0</td>\n    </tr>\n    <tr>\n      <th>3</th>\n      <td>1.0</td>\n      <td>-0.966272</td>\n      <td>-0.185226</td>\n      <td>1.792993</td>\n      <td>-0.863291</td>\n      <td>-0.010309</td>\n      <td>1.247203</td>\n      <td>0.237609</td>\n      <td>0.377436</td>\n      <td>-1.387024</td>\n      <td>...</td>\n      <td>-0.108300</td>\n      <td>0.005274</td>\n      <td>-0.190321</td>\n      <td>-1.175575</td>\n      <td>0.647376</td>\n      <td>-0.221929</td>\n      <td>0.062723</td>\n      <td>0.061458</td>\n      <td>123.50</td>\n      <td>0</td>\n    </tr>\n    <tr>\n      <th>4</th>\n      <td>2.0</td>\n      <td>-1.158233</td>\n      <td>0.877737</td>\n      <td>1.548718</td>\n      <td>0.403034</td>\n      <td>-0.407193</td>\n      <td>0.095921</td>\n      <td>0.592941</td>\n      <td>-0.270533</td>\n      <td>0.817739</td>\n      <td>...</td>\n      <td>-0.009431</td>\n      <td>0.798278</td>\n      <td>-0.137458</td>\n      <td>0.141267</td>\n      <td>-0.206010</td>\n      <td>0.502292</td>\n      <td>0.219422</td>\n      <td>0.215153</td>\n      <td>69.99</td>\n      <td>0</td>\n    </tr>\n  </tbody>\n</table>\n<p>5 rows × 31 columns</p>\n</div>"
          },
          "metadata": {}
        }
      ]
    },
    {
      "cell_type": "code",
      "source": [
        "credit_card_data.tail()"
      ],
      "metadata": {
        "id": "iWCP6YJjThIM",
        "outputId": "19097c05-c0ff-4df7-c21b-84c7cde9e7da",
        "execution": {
          "iopub.status.busy": "2023-10-27T13:48:00.345418Z",
          "iopub.execute_input": "2023-10-27T13:48:00.347674Z",
          "iopub.status.idle": "2023-10-27T13:48:00.379553Z",
          "shell.execute_reply.started": "2023-10-27T13:48:00.347634Z",
          "shell.execute_reply": "2023-10-27T13:48:00.378685Z"
        },
        "trusted": true
      },
      "execution_count": null,
      "outputs": [
        {
          "execution_count": 5,
          "output_type": "execute_result",
          "data": {
            "text/plain": "            Time         V1         V2        V3        V4        V5  \\\n284802  172786.0 -11.881118  10.071785 -9.834783 -2.066656 -5.364473   \n284803  172787.0  -0.732789  -0.055080  2.035030 -0.738589  0.868229   \n284804  172788.0   1.919565  -0.301254 -3.249640 -0.557828  2.630515   \n284805  172788.0  -0.240440   0.530483  0.702510  0.689799 -0.377961   \n284806  172792.0  -0.533413  -0.189733  0.703337 -0.506271 -0.012546   \n\n              V6        V7        V8        V9  ...       V21       V22  \\\n284802 -2.606837 -4.918215  7.305334  1.914428  ...  0.213454  0.111864   \n284803  1.058415  0.024330  0.294869  0.584800  ...  0.214205  0.924384   \n284804  3.031260 -0.296827  0.708417  0.432454  ...  0.232045  0.578229   \n284805  0.623708 -0.686180  0.679145  0.392087  ...  0.265245  0.800049   \n284806 -0.649617  1.577006 -0.414650  0.486180  ...  0.261057  0.643078   \n\n             V23       V24       V25       V26       V27       V28  Amount  \\\n284802  1.014480 -0.509348  1.436807  0.250034  0.943651  0.823731    0.77   \n284803  0.012463 -1.016226 -0.606624 -0.395255  0.068472 -0.053527   24.79   \n284804 -0.037501  0.640134  0.265745 -0.087371  0.004455 -0.026561   67.88   \n284805 -0.163298  0.123205 -0.569159  0.546668  0.108821  0.104533   10.00   \n284806  0.376777  0.008797 -0.473649 -0.818267 -0.002415  0.013649  217.00   \n\n        Class  \n284802      0  \n284803      0  \n284804      0  \n284805      0  \n284806      0  \n\n[5 rows x 31 columns]",
            "text/html": "<div>\n<style scoped>\n    .dataframe tbody tr th:only-of-type {\n        vertical-align: middle;\n    }\n\n    .dataframe tbody tr th {\n        vertical-align: top;\n    }\n\n    .dataframe thead th {\n        text-align: right;\n    }\n</style>\n<table border=\"1\" class=\"dataframe\">\n  <thead>\n    <tr style=\"text-align: right;\">\n      <th></th>\n      <th>Time</th>\n      <th>V1</th>\n      <th>V2</th>\n      <th>V3</th>\n      <th>V4</th>\n      <th>V5</th>\n      <th>V6</th>\n      <th>V7</th>\n      <th>V8</th>\n      <th>V9</th>\n      <th>...</th>\n      <th>V21</th>\n      <th>V22</th>\n      <th>V23</th>\n      <th>V24</th>\n      <th>V25</th>\n      <th>V26</th>\n      <th>V27</th>\n      <th>V28</th>\n      <th>Amount</th>\n      <th>Class</th>\n    </tr>\n  </thead>\n  <tbody>\n    <tr>\n      <th>284802</th>\n      <td>172786.0</td>\n      <td>-11.881118</td>\n      <td>10.071785</td>\n      <td>-9.834783</td>\n      <td>-2.066656</td>\n      <td>-5.364473</td>\n      <td>-2.606837</td>\n      <td>-4.918215</td>\n      <td>7.305334</td>\n      <td>1.914428</td>\n      <td>...</td>\n      <td>0.213454</td>\n      <td>0.111864</td>\n      <td>1.014480</td>\n      <td>-0.509348</td>\n      <td>1.436807</td>\n      <td>0.250034</td>\n      <td>0.943651</td>\n      <td>0.823731</td>\n      <td>0.77</td>\n      <td>0</td>\n    </tr>\n    <tr>\n      <th>284803</th>\n      <td>172787.0</td>\n      <td>-0.732789</td>\n      <td>-0.055080</td>\n      <td>2.035030</td>\n      <td>-0.738589</td>\n      <td>0.868229</td>\n      <td>1.058415</td>\n      <td>0.024330</td>\n      <td>0.294869</td>\n      <td>0.584800</td>\n      <td>...</td>\n      <td>0.214205</td>\n      <td>0.924384</td>\n      <td>0.012463</td>\n      <td>-1.016226</td>\n      <td>-0.606624</td>\n      <td>-0.395255</td>\n      <td>0.068472</td>\n      <td>-0.053527</td>\n      <td>24.79</td>\n      <td>0</td>\n    </tr>\n    <tr>\n      <th>284804</th>\n      <td>172788.0</td>\n      <td>1.919565</td>\n      <td>-0.301254</td>\n      <td>-3.249640</td>\n      <td>-0.557828</td>\n      <td>2.630515</td>\n      <td>3.031260</td>\n      <td>-0.296827</td>\n      <td>0.708417</td>\n      <td>0.432454</td>\n      <td>...</td>\n      <td>0.232045</td>\n      <td>0.578229</td>\n      <td>-0.037501</td>\n      <td>0.640134</td>\n      <td>0.265745</td>\n      <td>-0.087371</td>\n      <td>0.004455</td>\n      <td>-0.026561</td>\n      <td>67.88</td>\n      <td>0</td>\n    </tr>\n    <tr>\n      <th>284805</th>\n      <td>172788.0</td>\n      <td>-0.240440</td>\n      <td>0.530483</td>\n      <td>0.702510</td>\n      <td>0.689799</td>\n      <td>-0.377961</td>\n      <td>0.623708</td>\n      <td>-0.686180</td>\n      <td>0.679145</td>\n      <td>0.392087</td>\n      <td>...</td>\n      <td>0.265245</td>\n      <td>0.800049</td>\n      <td>-0.163298</td>\n      <td>0.123205</td>\n      <td>-0.569159</td>\n      <td>0.546668</td>\n      <td>0.108821</td>\n      <td>0.104533</td>\n      <td>10.00</td>\n      <td>0</td>\n    </tr>\n    <tr>\n      <th>284806</th>\n      <td>172792.0</td>\n      <td>-0.533413</td>\n      <td>-0.189733</td>\n      <td>0.703337</td>\n      <td>-0.506271</td>\n      <td>-0.012546</td>\n      <td>-0.649617</td>\n      <td>1.577006</td>\n      <td>-0.414650</td>\n      <td>0.486180</td>\n      <td>...</td>\n      <td>0.261057</td>\n      <td>0.643078</td>\n      <td>0.376777</td>\n      <td>0.008797</td>\n      <td>-0.473649</td>\n      <td>-0.818267</td>\n      <td>-0.002415</td>\n      <td>0.013649</td>\n      <td>217.00</td>\n      <td>0</td>\n    </tr>\n  </tbody>\n</table>\n<p>5 rows × 31 columns</p>\n</div>"
          },
          "metadata": {}
        }
      ]
    },
    {
      "cell_type": "code",
      "source": [
        "# dataset informations\n",
        "credit_card_data.info()"
      ],
      "metadata": {
        "id": "KcCZquvEUD3A",
        "outputId": "a18d75ef-936b-4a52-8589-0acb2cc5fe4e",
        "execution": {
          "iopub.status.busy": "2023-10-27T13:48:00.383632Z",
          "iopub.execute_input": "2023-10-27T13:48:00.385872Z",
          "iopub.status.idle": "2023-10-27T13:48:00.460738Z",
          "shell.execute_reply.started": "2023-10-27T13:48:00.385821Z",
          "shell.execute_reply": "2023-10-27T13:48:00.459000Z"
        },
        "trusted": true
      },
      "execution_count": null,
      "outputs": [
        {
          "name": "stdout",
          "text": "<class 'pandas.core.frame.DataFrame'>\nRangeIndex: 284807 entries, 0 to 284806\nData columns (total 31 columns):\n #   Column  Non-Null Count   Dtype  \n---  ------  --------------   -----  \n 0   Time    284807 non-null  float64\n 1   V1      284807 non-null  float64\n 2   V2      284807 non-null  float64\n 3   V3      284807 non-null  float64\n 4   V4      284807 non-null  float64\n 5   V5      284807 non-null  float64\n 6   V6      284807 non-null  float64\n 7   V7      284807 non-null  float64\n 8   V8      284807 non-null  float64\n 9   V9      284807 non-null  float64\n 10  V10     284807 non-null  float64\n 11  V11     284807 non-null  float64\n 12  V12     284807 non-null  float64\n 13  V13     284807 non-null  float64\n 14  V14     284807 non-null  float64\n 15  V15     284807 non-null  float64\n 16  V16     284807 non-null  float64\n 17  V17     284807 non-null  float64\n 18  V18     284807 non-null  float64\n 19  V19     284807 non-null  float64\n 20  V20     284807 non-null  float64\n 21  V21     284807 non-null  float64\n 22  V22     284807 non-null  float64\n 23  V23     284807 non-null  float64\n 24  V24     284807 non-null  float64\n 25  V25     284807 non-null  float64\n 26  V26     284807 non-null  float64\n 27  V27     284807 non-null  float64\n 28  V28     284807 non-null  float64\n 29  Amount  284807 non-null  float64\n 30  Class   284807 non-null  int64  \ndtypes: float64(30), int64(1)\nmemory usage: 67.4 MB\n",
          "output_type": "stream"
        }
      ]
    },
    {
      "cell_type": "code",
      "source": [
        "# checking the number of missing values in each column\n",
        "credit_card_data.isnull().sum()"
      ],
      "metadata": {
        "id": "XxwasmfKUQiA",
        "outputId": "a1cf3e15-9491-40f9-fecb-e5d1895bc8ca",
        "execution": {
          "iopub.status.busy": "2023-10-27T13:48:00.471524Z",
          "iopub.execute_input": "2023-10-27T13:48:00.474939Z",
          "iopub.status.idle": "2023-10-27T13:48:00.526812Z",
          "shell.execute_reply.started": "2023-10-27T13:48:00.474880Z",
          "shell.execute_reply": "2023-10-27T13:48:00.525714Z"
        },
        "trusted": true
      },
      "execution_count": null,
      "outputs": [
        {
          "execution_count": 7,
          "output_type": "execute_result",
          "data": {
            "text/plain": "Time      0\nV1        0\nV2        0\nV3        0\nV4        0\nV5        0\nV6        0\nV7        0\nV8        0\nV9        0\nV10       0\nV11       0\nV12       0\nV13       0\nV14       0\nV15       0\nV16       0\nV17       0\nV18       0\nV19       0\nV20       0\nV21       0\nV22       0\nV23       0\nV24       0\nV25       0\nV26       0\nV27       0\nV28       0\nAmount    0\nClass     0\ndtype: int64"
          },
          "metadata": {}
        }
      ]
    },
    {
      "cell_type": "code",
      "source": [
        "# distribution of legit transactions & fraudulent transactions\n",
        "credit_card_data['Class'].value_counts()"
      ],
      "metadata": {
        "id": "EIpoKfp5Ugri",
        "outputId": "5150aa81-723c-424d-dcee-80f5c1e37a0f",
        "execution": {
          "iopub.status.busy": "2023-10-27T13:48:00.532508Z",
          "iopub.execute_input": "2023-10-27T13:48:00.535949Z",
          "iopub.status.idle": "2023-10-27T13:48:00.558048Z",
          "shell.execute_reply.started": "2023-10-27T13:48:00.535887Z",
          "shell.execute_reply": "2023-10-27T13:48:00.556634Z"
        },
        "trusted": true
      },
      "execution_count": null,
      "outputs": [
        {
          "execution_count": 8,
          "output_type": "execute_result",
          "data": {
            "text/plain": "Class\n0    284315\n1       492\nName: count, dtype: int64"
          },
          "metadata": {}
        }
      ]
    },
    {
      "cell_type": "code",
      "source": [
        "credit_card_data = credit_card_data.drop(\"Time\", axis=1)"
      ],
      "metadata": {
        "execution": {
          "iopub.status.busy": "2023-10-27T13:48:00.564829Z",
          "iopub.execute_input": "2023-10-27T13:48:00.567865Z",
          "iopub.status.idle": "2023-10-27T13:48:00.634467Z",
          "shell.execute_reply.started": "2023-10-27T13:48:00.567814Z",
          "shell.execute_reply": "2023-10-27T13:48:00.633224Z"
        },
        "trusted": true,
        "id": "7drEIqBddpXv"
      },
      "execution_count": null,
      "outputs": []
    },
    {
      "cell_type": "code",
      "source": [
        "from sklearn import preprocessing\n",
        "scaler = preprocessing.StandardScaler()"
      ],
      "metadata": {
        "execution": {
          "iopub.status.busy": "2023-10-27T13:48:00.647323Z",
          "iopub.execute_input": "2023-10-27T13:48:00.651137Z",
          "iopub.status.idle": "2023-10-27T13:48:00.829216Z",
          "shell.execute_reply.started": "2023-10-27T13:48:00.651066Z",
          "shell.execute_reply": "2023-10-27T13:48:00.827910Z"
        },
        "trusted": true,
        "id": "C57536URdpXv"
      },
      "execution_count": null,
      "outputs": []
    },
    {
      "cell_type": "code",
      "source": [
        "#standard scaling\n",
        "credit_card_data['std_Amount'] = scaler.fit_transform(credit_card_data['Amount'].values.reshape (-1,1))\n",
        "\n",
        "#removing Amount\n",
        "credit_card_data = credit_card_data.drop(\"Amount\", axis=1)"
      ],
      "metadata": {
        "execution": {
          "iopub.status.busy": "2023-10-27T13:48:00.835333Z",
          "iopub.execute_input": "2023-10-27T13:48:00.838546Z",
          "iopub.status.idle": "2023-10-27T13:48:00.945096Z",
          "shell.execute_reply.started": "2023-10-27T13:48:00.838492Z",
          "shell.execute_reply": "2023-10-27T13:48:00.943892Z"
        },
        "trusted": true,
        "id": "KGDv1Wl7dpXv"
      },
      "execution_count": null,
      "outputs": []
    },
    {
      "cell_type": "code",
      "source": [
        "sns.countplot(x=\"Class\", data=credit_card_data)"
      ],
      "metadata": {
        "execution": {
          "iopub.status.busy": "2023-10-27T13:48:00.950858Z",
          "iopub.execute_input": "2023-10-27T13:48:00.953756Z",
          "iopub.status.idle": "2023-10-27T13:48:01.271913Z",
          "shell.execute_reply.started": "2023-10-27T13:48:00.953709Z",
          "shell.execute_reply": "2023-10-27T13:48:01.270815Z"
        },
        "trusted": true,
        "id": "ukio2H-pdpXw",
        "outputId": "fb7ec8ec-5368-46c6-d5cb-d56c940ae85e"
      },
      "execution_count": null,
      "outputs": [
        {
          "execution_count": 12,
          "output_type": "execute_result",
          "data": {
            "text/plain": "<Axes: xlabel='Class', ylabel='count'>"
          },
          "metadata": {}
        },
        {
          "output_type": "display_data",
          "data": {
            "text/plain": "<Figure size 640x480 with 1 Axes>",
            "image/png": "[encoded data removed]"
          },
          "metadata": {}
        }
      ]
    },
    {
      "cell_type": "code",
      "source": [
        "import imblearn\n",
        "from imblearn.under_sampling import RandomUnderSampler\n",
        "\n",
        "undersample = RandomUnderSampler(sampling_strategy=0.5)"
      ],
      "metadata": {
        "execution": {
          "iopub.status.busy": "2023-10-27T13:48:01.277389Z",
          "iopub.execute_input": "2023-10-27T13:48:01.280366Z",
          "iopub.status.idle": "2023-10-27T13:48:02.129517Z",
          "shell.execute_reply.started": "2023-10-27T13:48:01.280315Z",
          "shell.execute_reply": "2023-10-27T13:48:02.128612Z"
        },
        "trusted": true,
        "id": "P6DclT8OdpXw"
      },
      "execution_count": null,
      "outputs": []
    },
    {
      "cell_type": "code",
      "source": [
        "cols = credit_card_data.columns.tolist()\n",
        "cols = [c for c in cols if c not in [\"Class\"]]\n",
        "target = \"Class\""
      ],
      "metadata": {
        "execution": {
          "iopub.status.busy": "2023-10-27T13:48:02.134169Z",
          "iopub.execute_input": "2023-10-27T13:48:02.136420Z",
          "iopub.status.idle": "2023-10-27T13:48:02.143221Z",
          "shell.execute_reply.started": "2023-10-27T13:48:02.136383Z",
          "shell.execute_reply": "2023-10-27T13:48:02.142080Z"
        },
        "trusted": true,
        "id": "lZbk65SUdpXw"
      },
      "execution_count": null,
      "outputs": []
    },
    {
      "cell_type": "code",
      "source": [
        "#define X and Y\n",
        "X = credit_card_data[cols]\n",
        "Y = credit_card_data[target]\n",
        "\n",
        "#undersample\n",
        "X_under, Y_under = undersample.fit_resample(X, Y)"
      ],
      "metadata": {
        "execution": {
          "iopub.status.busy": "2023-10-27T13:48:02.147711Z",
          "iopub.execute_input": "2023-10-27T13:48:02.150454Z",
          "iopub.status.idle": "2023-10-27T13:48:02.270514Z",
          "shell.execute_reply.started": "2023-10-27T13:48:02.150328Z",
          "shell.execute_reply": "2023-10-27T13:48:02.269692Z"
        },
        "trusted": true,
        "id": "qps0jNX0dpXx"
      },
      "execution_count": null,
      "outputs": []
    },
    {
      "cell_type": "code",
      "source": [
        "from pandas import DataFrame\n",
        "test = pd.DataFrame(Y_under, columns = ['Class'])"
      ],
      "metadata": {
        "execution": {
          "iopub.status.busy": "2023-10-27T13:48:02.274900Z",
          "iopub.execute_input": "2023-10-27T13:48:02.276989Z",
          "iopub.status.idle": "2023-10-27T13:48:02.284876Z",
          "shell.execute_reply.started": "2023-10-27T13:48:02.276951Z",
          "shell.execute_reply": "2023-10-27T13:48:02.283971Z"
        },
        "trusted": true,
        "id": "LD7Ju0_bdpXx"
      },
      "execution_count": null,
      "outputs": []
    },
    {
      "cell_type": "code",
      "source": [
        "#visualizing undersampling results\n",
        "fig, axs = plt.subplots(ncols=2, figsize=(13,4.5))\n",
        "sns.countplot(x=\"Class\", data=credit_card_data, ax=axs[0])\n",
        "sns.countplot(x=\"Class\", data=test, ax=axs[1])\n",
        "\n",
        "fig.suptitle(\"Class repartition before and after undersampling\")\n",
        "a1=fig.axes[0]\n",
        "a1.set_title(\"Before\")\n",
        "a2=fig.axes[1]\n",
        "a2.set_title(\"After\")"
      ],
      "metadata": {
        "execution": {
          "iopub.status.busy": "2023-10-27T13:48:02.289010Z",
          "iopub.execute_input": "2023-10-27T13:48:02.291209Z",
          "iopub.status.idle": "2023-10-27T13:48:02.682430Z",
          "shell.execute_reply.started": "2023-10-27T13:48:02.291171Z",
          "shell.execute_reply": "2023-10-27T13:48:02.681566Z"
        },
        "trusted": true,
        "id": "t6Wv51OgdpXx",
        "outputId": "31beaa90-bc88-4445-f3f6-1c225db258d2"
      },
      "execution_count": null,
      "outputs": [
        {
          "execution_count": 17,
          "output_type": "execute_result",
          "data": {
            "text/plain": "Text(0.5, 1.0, 'After')"
          },
          "metadata": {}
        },
        {
          "output_type": "display_data",
          "data": {
            "text/plain": "<Figure size 1300x450 with 2 Axes>",
            "image/png": "[encoded data removed]"
          },
          "metadata": {}
        }
      ]
    },
    {
      "cell_type": "markdown",
      "source": [
        "## Train Test Split"
      ],
      "metadata": {
        "id": "UfkkNDXwdpXy"
      }
    },
    {
      "cell_type": "code",
      "source": [
        "from sklearn.model_selection import train_test_split\n",
        "\n",
        "X_train, X_test, y_train, y_test = train_test_split(X_under, Y_under, test_size=0.2, random_state=1)"
      ],
      "metadata": {
        "execution": {
          "iopub.status.busy": "2023-10-27T13:48:02.686350Z",
          "iopub.execute_input": "2023-10-27T13:48:02.688351Z",
          "iopub.status.idle": "2023-10-27T13:48:02.697481Z",
          "shell.execute_reply.started": "2023-10-27T13:48:02.688315Z",
          "shell.execute_reply": "2023-10-27T13:48:02.696599Z"
        },
        "trusted": true,
        "id": "vKtiB07NdpXy"
      },
      "execution_count": null,
      "outputs": []
    },
    {
      "cell_type": "markdown",
      "source": [
        "## Support Vector Machine"
      ],
      "metadata": {
        "id": "ZlFOVPecdpXy"
      }
    },
    {
      "cell_type": "code",
      "source": [
        "from sklearn.svm import SVC\n",
        "\n",
        "from sklearn import metrics\n",
        "from sklearn.metrics import confusion_matrix\n",
        "from sklearn.metrics import roc_curve\n",
        "from sklearn.metrics import roc_auc_score\n",
        "from sklearn.metrics import auc\n",
        "from sklearn.metrics import precision_recall_curve"
      ],
      "metadata": {
        "execution": {
          "iopub.status.busy": "2023-10-27T13:48:02.702504Z",
          "iopub.execute_input": "2023-10-27T13:48:02.704841Z",
          "iopub.status.idle": "2023-10-27T13:48:02.711271Z",
          "shell.execute_reply.started": "2023-10-27T13:48:02.704781Z",
          "shell.execute_reply": "2023-10-27T13:48:02.710372Z"
        },
        "trusted": true,
        "id": "kpJd0ktQdpXy"
      },
      "execution_count": null,
      "outputs": []
    },
    {
      "cell_type": "code",
      "source": [
        "model = SVC()"
      ],
      "metadata": {
        "execution": {
          "iopub.status.busy": "2023-10-27T13:48:02.715610Z",
          "iopub.execute_input": "2023-10-27T13:48:02.718028Z",
          "iopub.status.idle": "2023-10-27T13:48:02.729120Z",
          "shell.execute_reply.started": "2023-10-27T13:48:02.717981Z",
          "shell.execute_reply": "2023-10-27T13:48:02.728249Z"
        },
        "trusted": true,
        "id": "0P-lwKoVdpXy"
      },
      "execution_count": null,
      "outputs": []
    },
    {
      "cell_type": "code",
      "source": [
        "model.fit(X_train,y_train)"
      ],
      "metadata": {
        "execution": {
          "iopub.status.busy": "2023-10-27T13:48:02.733966Z",
          "iopub.execute_input": "2023-10-27T13:48:02.735532Z",
          "iopub.status.idle": "2023-10-27T13:48:02.778135Z",
          "shell.execute_reply.started": "2023-10-27T13:48:02.735496Z",
          "shell.execute_reply": "2023-10-27T13:48:02.777236Z"
        },
        "trusted": true,
        "id": "G-e0a601dpXz",
        "outputId": "4a811879-d172-4d9e-f7df-28c52fbf0731"
      },
      "execution_count": null,
      "outputs": [
        {
          "execution_count": 21,
          "output_type": "execute_result",
          "data": {
            "text/plain": "SVC()",
            "text/html": "<style>#sk-container-id-1 {color: black;background-color: white;}#sk-container-id-1 pre{padding: 0;}#sk-container-id-1 div.sk-toggleable {background-color: white;}#sk-container-id-1 label.sk-toggleable__label {cursor: pointer;display: block;width: 100%;margin-bottom: 0;padding: 0.3em;box-sizing: border-box;text-align: center;}#sk-container-id-1 label.sk-toggleable__label-arrow:before {content: \"▸\";float: left;margin-right: 0.25em;color: #696969;}#sk-container-id-1 label.sk-toggleable__label-arrow:hover:before {color: black;}#sk-container-id-1 div.sk-estimator:hover label.sk-toggleable__label-arrow:before {color: black;}#sk-container-id-1 div.sk-toggleable__content {max-height: 0;max-width: 0;overflow: hidden;text-align: left;background-color: #f0f8ff;}#sk-container-id-1 div.sk-toggleable__content pre {margin: 0.2em;color: black;border-radius: 0.25em;background-color: #f0f8ff;}#sk-container-id-1 input.sk-toggleable__control:checked~div.sk-toggleable__content {max-height: 200px;max-width: 100%;overflow: auto;}#sk-container-id-1 input.sk-toggleable__control:checked~label.sk-toggleable__label-arrow:before {content: \"▾\";}#sk-container-id-1 div.sk-estimator input.sk-toggleable__control:checked~label.sk-toggleable__label {background-color: #d4ebff;}#sk-container-id-1 div.sk-label input.sk-toggleable__control:checked~label.sk-toggleable__label {background-color: #d4ebff;}#sk-container-id-1 input.sk-hidden--visually {border: 0;clip: rect(1px 1px 1px 1px);clip: rect(1px, 1px, 1px, 1px);height: 1px;margin: -1px;overflow: hidden;padding: 0;position: absolute;width: 1px;}#sk-container-id-1 div.sk-estimator {font-family: monospace;background-color: #f0f8ff;border: 1px dotted black;border-radius: 0.25em;box-sizing: border-box;margin-bottom: 0.5em;}#sk-container-id-1 div.sk-estimator:hover {background-color: #d4ebff;}#sk-container-id-1 div.sk-parallel-item::after {content: \"\";width: 100%;border-bottom: 1px solid gray;flex-grow: 1;}#sk-container-id-1 div.sk-label:hover label.sk-toggleable__label {background-color: #d4ebff;}#sk-container-id-1 div.sk-serial::before {content: \"\";position: absolute;border-left: 1px solid gray;box-sizing: border-box;top: 0;bottom: 0;left: 50%;z-index: 0;}#sk-container-id-1 div.sk-serial {display: flex;flex-direction: column;align-items: center;background-color: white;padding-right: 0.2em;padding-left: 0.2em;position: relative;}#sk-container-id-1 div.sk-item {position: relative;z-index: 1;}#sk-container-id-1 div.sk-parallel {display: flex;align-items: stretch;justify-content: center;background-color: white;position: relative;}#sk-container-id-1 div.sk-item::before, #sk-container-id-1 div.sk-parallel-item::before {content: \"\";position: absolute;border-left: 1px solid gray;box-sizing: border-box;top: 0;bottom: 0;left: 50%;z-index: -1;}#sk-container-id-1 div.sk-parallel-item {display: flex;flex-direction: column;z-index: 1;position: relative;background-color: white;}#sk-container-id-1 div.sk-parallel-item:first-child::after {align-self: flex-end;width: 50%;}#sk-container-id-1 div.sk-parallel-item:last-child::after {align-self: flex-start;width: 50%;}#sk-container-id-1 div.sk-parallel-item:only-child::after {width: 0;}#sk-container-id-1 div.sk-dashed-wrapped {border: 1px dashed gray;margin: 0 0.4em 0.5em 0.4em;box-sizing: border-box;padding-bottom: 0.4em;background-color: white;}#sk-container-id-1 div.sk-label label {font-family: monospace;font-weight: bold;display: inline-block;line-height: 1.2em;}#sk-container-id-1 div.sk-label-container {text-align: center;}#sk-container-id-1 div.sk-container {/* jupyter's `normalize.less` sets `[hidden] { display: none; }` but bootstrap.min.css set `[hidden] { display: none !important; }` so we also need the `!important` here to be able to override the default hidden behavior on the sphinx rendered scikit-learn.org. See: https://github.com/scikit-learn/scikit-learn/issues/21755 */display: inline-block !important;position: relative;}#sk-container-id-1 div.sk-text-repr-fallback {display: none;}</style><div id=\"sk-container-id-1\" class=\"sk-top-container\"><div class=\"sk-text-repr-fallback\"><pre>SVC()</pre><b>In a Jupyter environment, please rerun this cell to show the HTML representation or trust the notebook. <br />On GitHub, the HTML representation is unable to render, please try loading this page with nbviewer.org.</b></div><div class=\"sk-container\" hidden><div class=\"sk-item\"><div class=\"sk-estimator sk-toggleable\"><input class=\"sk-toggleable__control sk-hidden--visually\" id=\"sk-estimator-id-1\" type=\"checkbox\" checked><label for=\"sk-estimator-id-1\" class=\"sk-toggleable__label sk-toggleable__label-arrow\">SVC</label><div class=\"sk-toggleable__content\"><pre>SVC()</pre></div></div></div></div></div>"
          },
          "metadata": {}
        }
      ]
    },
    {
      "cell_type": "code",
      "source": [
        "#train the model\n",
        "model2 = SVC(probability=True, random_state=2)\n",
        "svm = model2.fit(X_train, y_train)"
      ],
      "metadata": {
        "execution": {
          "iopub.status.busy": "2023-10-27T13:48:02.782311Z",
          "iopub.execute_input": "2023-10-27T13:48:02.784373Z",
          "iopub.status.idle": "2023-10-27T13:48:02.885141Z",
          "shell.execute_reply.started": "2023-10-27T13:48:02.784336Z",
          "shell.execute_reply": "2023-10-27T13:48:02.884124Z"
        },
        "trusted": true,
        "id": "brHRAW4RdpXz"
      },
      "execution_count": null,
      "outputs": []
    },
    {
      "cell_type": "code",
      "source": [
        "#predictions\n",
        "y_pred_svm = model2.predict(X_test)"
      ],
      "metadata": {
        "execution": {
          "iopub.status.busy": "2023-10-27T13:48:02.889475Z",
          "iopub.execute_input": "2023-10-27T13:48:02.891531Z",
          "iopub.status.idle": "2023-10-27T13:48:02.905953Z",
          "shell.execute_reply.started": "2023-10-27T13:48:02.891495Z",
          "shell.execute_reply": "2023-10-27T13:48:02.904810Z"
        },
        "trusted": true,
        "id": "OZC-96hRdpXz"
      },
      "execution_count": null,
      "outputs": []
    },
    {
      "cell_type": "code",
      "source": [
        "#scores\n",
        "print(\"Accuracy SVM:\",metrics.accuracy_score(y_test, y_pred_svm))\n",
        "print(\"Precision SVM:\",metrics.precision_score(y_test, y_pred_svm))\n",
        "print(\"Recall SVM:\",metrics.recall_score(y_test, y_pred_svm))\n",
        "print(\"F1 Score SVM:\",metrics.f1_score(y_test, y_pred_svm))"
      ],
      "metadata": {
        "execution": {
          "iopub.status.busy": "2023-10-27T13:48:02.910544Z",
          "iopub.execute_input": "2023-10-27T13:48:02.912643Z",
          "iopub.status.idle": "2023-10-27T13:48:02.930070Z",
          "shell.execute_reply.started": "2023-10-27T13:48:02.912607Z",
          "shell.execute_reply": "2023-10-27T13:48:02.929043Z"
        },
        "trusted": true,
        "id": "AfB3g4pBdpXz",
        "outputId": "7a183677-2739-4c62-d204-4d77e05f1e9e"
      },
      "execution_count": null,
      "outputs": [
        {
          "name": "stdout",
          "text": "Accuracy SVM: 0.9425675675675675\nPrecision SVM: 0.9789473684210527\nRecall SVM: 0.8611111111111112\nF1 Score SVM: 0.9162561576354681\n",
          "output_type": "stream"
        }
      ]
    },
    {
      "cell_type": "code",
      "source": [
        "#CM matrix\n",
        "matrix_svm = confusion_matrix(y_test, y_pred_svm)\n",
        "cm_svm = pd.DataFrame(matrix_svm, index=['not_fraud', 'fraud'], columns=['not_fraud', 'fraud'])\n",
        "\n",
        "sns.heatmap(cm_svm, annot=True, cbar=None, cmap=\"Blues\", fmt = 'g')\n",
        "plt.title(\"Confusion Matrix SVM\"), plt.tight_layout()\n",
        "plt.ylabel(\"True Class\"), plt.xlabel(\"Predicted Class\")\n",
        "plt.show()"
      ],
      "metadata": {
        "execution": {
          "iopub.status.busy": "2023-10-27T13:48:02.934461Z",
          "iopub.execute_input": "2023-10-27T13:48:02.936536Z",
          "iopub.status.idle": "2023-10-27T13:48:03.081729Z",
          "shell.execute_reply.started": "2023-10-27T13:48:02.936498Z",
          "shell.execute_reply": "2023-10-27T13:48:03.080900Z"
        },
        "trusted": true,
        "id": "EOrN-yRDdpX0",
        "outputId": "38bc9351-4471-4830-b0ab-62a6933ab507"
      },
      "execution_count": null,
      "outputs": [
        {
          "output_type": "display_data",
          "data": {
            "text/plain": "<Figure size 640x480 with 1 Axes>",
            "image/png": "[encoded data removed]"
          },
          "metadata": {}
        }
      ]
    },
    {
      "cell_type": "code",
      "source": [
        "#AUC\n",
        "y_pred_svm_proba = model2.predict_proba(X_test)[::,1]\n",
        "fpr_svm, tpr_svm, _ = metrics.roc_curve(y_test,  y_pred_svm_proba)\n",
        "auc_svm = metrics.roc_auc_score(y_test, y_pred_svm_proba)\n",
        "print(\"AUC SVM :\", auc_svm)"
      ],
      "metadata": {
        "execution": {
          "iopub.status.busy": "2023-10-27T13:48:03.085934Z",
          "iopub.execute_input": "2023-10-27T13:48:03.088042Z",
          "iopub.status.idle": "2023-10-27T13:48:03.112612Z",
          "shell.execute_reply.started": "2023-10-27T13:48:03.088005Z",
          "shell.execute_reply": "2023-10-27T13:48:03.111810Z"
        },
        "trusted": true,
        "id": "dHojnTuTdpX0",
        "outputId": "65675a82-c705-4b98-f610-13c5975b4298"
      },
      "execution_count": null,
      "outputs": [
        {
          "name": "stdout",
          "text": "AUC SVM : 0.9746847911741529\n",
          "output_type": "stream"
        }
      ]
    },
    {
      "cell_type": "code",
      "source": [
        "#ROC\n",
        "plt.plot(fpr_svm,tpr_svm,label=\"SVM, auc={:.3f})\".format(auc_svm))\n",
        "plt.plot([0, 1], [0, 1], 'k--')\n",
        "plt.xlabel('False positive rate')\n",
        "plt.ylabel('True positive rate')\n",
        "plt.title('SVM ROC curve')\n",
        "plt.legend(loc=4)\n",
        "plt.show()"
      ],
      "metadata": {
        "execution": {
          "iopub.status.busy": "2023-10-27T13:48:03.116580Z",
          "iopub.execute_input": "2023-10-27T13:48:03.118639Z",
          "iopub.status.idle": "2023-10-27T13:48:03.341553Z",
          "shell.execute_reply.started": "2023-10-27T13:48:03.118603Z",
          "shell.execute_reply": "2023-10-27T13:48:03.340742Z"
        },
        "trusted": true,
        "id": "EqaBu1mydpX0",
        "outputId": "19f93312-f142-4f8b-ddc6-5b91ab9fc022"
      },
      "execution_count": null,
      "outputs": [
        {
          "output_type": "display_data",
          "data": {
            "text/plain": "<Figure size 640x480 with 1 Axes>",
            "image/png": "[encoded data removed]"
          },
          "metadata": {}
        }
      ]
    },
    {
      "cell_type": "code",
      "source": [
        "svm_precision, svm_recall, _ = precision_recall_curve(y_test, y_pred_svm_proba)\n",
        "no_skill = len(y_test[y_test==1]) / len(y_test)\n",
        "plt.plot([0, 1], [no_skill, no_skill], linestyle='--', color='black', label='No Skill')\n",
        "plt.plot(svm_recall, svm_precision, color='orange', label='SVM')\n",
        "plt.xlabel('Recall')\n",
        "plt.ylabel('Precision')\n",
        "plt.title('Precision-Recall curve')\n",
        "plt.legend()\n",
        "plt.show()"
      ],
      "metadata": {
        "execution": {
          "iopub.status.busy": "2023-10-27T13:48:03.348138Z",
          "iopub.execute_input": "2023-10-27T13:48:03.350377Z",
          "iopub.status.idle": "2023-10-27T13:48:03.595454Z",
          "shell.execute_reply.started": "2023-10-27T13:48:03.350338Z",
          "shell.execute_reply": "2023-10-27T13:48:03.594445Z"
        },
        "trusted": true,
        "id": "IfgK3WCxdpX1",
        "outputId": "582c0b86-66b7-4395-e21a-bb0e71fef30f"
      },
      "execution_count": null,
      "outputs": [
        {
          "output_type": "display_data",
          "data": {
            "text/plain": "<Figure size 640x480 with 1 Axes>",
            "image/png": "[encoded data removed]"
          },
          "metadata": {}
        }
      ]
    },
    {
      "cell_type": "markdown",
      "source": [
        "Let's break down the code and summarize its purpose, and then we'll discuss the potential conclusions that can be drawn from this Credit Card Fraud Detection project using Support Vector Machines (SVM).\n",
        "\n",
        "1. Import Libraries:\n",
        "The initial part of the code imports necessary Python libraries for data manipulation and visualization.\n",
        "\n",
        "2. Get the Data:\n",
        "\n",
        "The code loads the Credit Card Fraud Detection dataset from a CSV file into a Pandas DataFrame named credit_card_data.\n",
        "3. Explore the Data:\n",
        "\n",
        "The code examines the dataset by checking column names, displaying the first and last few rows, providing dataset information (data types and non-null counts), and checking for missing values.\n",
        "It also displays the count of legitimate (Class 0) and fraudulent (Class 1) transactions in the dataset.\n",
        "4. Data Preprocessing:\n",
        "\n",
        "The \"Time\" column is removed from the dataset.\n",
        "Standardization is applied to the \"Amount\" column using StandardScaler, and the scaled values are stored in a new column \"std_Amount.\"\n",
        "5. Undersampling:\n",
        "\n",
        "The code performs undersampling to address class imbalance, ensuring a balanced representation of both Class 0 and Class 1 transactions in the dataset.\n",
        "6. Train-Test Split:\n",
        "\n",
        "The dataset is split into training and testing sets for model evaluation.\n",
        "7. Support Vector Machine (SVM):\n",
        "\n",
        "An SVM classifier is used for classification.\n",
        "Two SVM models are created for training and prediction. The second model (model2) allows for probability scores to be generated.\n",
        "8. Model Evaluation:\n",
        "\n",
        "The code calculates and prints various evaluation metrics to assess the SVM model's performance. Metrics include accuracy, precision, recall, and F1 score.\n",
        "9. Confusion Matrix and AUC:\n",
        "\n",
        "A confusion matrix is created to visualize true positive, true negative, false positive, and false negative predictions.\n",
        "The Area Under the Curve (AUC) for the Receiver Operating Characteristic (ROC) curve is calculated. The ROC curve assesses the model's ability to distinguish between classes.\n",
        "10. Plot ROC and Precision-Recall Curves:\n",
        "\n",
        "The code generates and displays the ROC curve to evaluate the SVM model's overall performance.\n",
        "A Precision-Recall curve is plotted, showing the trade-off between precision and recall.\n",
        "Conclusion:\n",
        "Based on the code and its results, you can draw several conclusions:\n",
        "\n",
        "Data Preprocessing: The code successfully preprocessed the data by removing unnecessary columns and standardizing the \"Amount\" feature. This is essential for preparing the data for machine learning.\n",
        "\n",
        "Class Imbalance Handling: Undersampling was applied to address the class imbalance issue, ensuring that the model is trained on a more balanced dataset.\n",
        "\n",
        "Model Training: A Support Vector Machine (SVM) model was trained on the preprocessed data to classify transactions as either legitimate or fraudulent.\n",
        "\n",
        "Model Evaluation: The model's performance was evaluated using various metrics, including accuracy, precision, recall, and F1 score. This helps in understanding how well the model performs in identifying fraudulent transactions.\n",
        "\n",
        "Visualization: Visualizations, such as the ROC curve and Precision-Recall curve, provide insights into the model's ability to make accurate predictions and its trade-off between precision and recall.\n",
        "\n",
        "In conclusion, the code demonstrates the process of building a fraud detection model using Support Vector Machines, addressing class imbalance, and evaluating the model's performance. The provided evaluation metrics and visualizations help in assessing the model's effectiveness in identifying fraudulent transactions. Further fine-tuning and optimization may be required to achieve the desired level of accuracy and reliability in real-world scenarios.\n",
        "\n",
        "\n",
        "\n",
        "\n"
      ],
      "metadata": {
        "id": "YwIvKK_3duBP"
      }
    }
  ]
}