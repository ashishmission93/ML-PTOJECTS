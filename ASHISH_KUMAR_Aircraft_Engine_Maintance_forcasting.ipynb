{
  "metadata": {
    "kernelspec": {
      "language": "python",
      "display_name": "Python 3",
      "name": "python3"
    },
    "language_info": {
      "name": "python",
      "version": "3.10.12",
      "mimetype": "text/x-python",
      "codemirror_mode": {
        "name": "ipython",
        "version": 3
      },
      "pygments_lexer": "ipython3",
      "nbconvert_exporter": "python",
      "file_extension": ".py"
    },
    "kaggle": {
      "accelerator": "none",
      "dataSources": [
        {
          "sourceId": 7467771,
          "sourceType": "datasetVersion",
          "datasetId": 4346942
        }
      ],
      "dockerImageVersionId": 30635,
      "isInternetEnabled": true,
      "language": "python",
      "sourceType": "notebook",
      "isGpuEnabled": false
    },
    "colab": {
      "provenance": [],
      "include_colab_link": true
    }
  },
  "nbformat_minor": 0,
  "nbformat": 4,
  "cells": [
    {
      "cell_type": "markdown",
      "metadata": {
        "id": "view-in-github",
        "colab_type": "text"
      },
      "source": [
        "<a href=\"https://colab.research.google.com/github/ashishmission93/ML-PTOJECTS/blob/main/ASHISH_KUMAR_Aircraft_Engine_Maintance_forcasting.ipynb\" target=\"_parent\"><img src=\"https://colab.research.google.com/assets/colab-badge.svg\" alt=\"Open In Colab\"/></a>"
      ]
    },
    {
      "cell_type": "markdown",
      "source": [
        "ASHISH KUMAR\n",
        "\n",
        "\n",
        "\n",
        "# Aircraft Engine Predictive Maintenance Project\n",
        "\n",
        "## Overview\n",
        "\n",
        "In this project, we aim to develop a predictive maintenance model for aircraft engines. The primary objective is to predict the Remaining Useful Life (RUL) of these engines based on sensor readings and operational parameters. Predictive maintenance is crucial for optimizing maintenance schedules, reducing downtime, and ensuring the efficient operation of aircraft.\n",
        "\n",
        "## Dataset\n",
        "\n",
        "The dataset used in this project consists of sensor data and engine settings collected over time. It includes features such as setting parameters, sensor measurements.\n",
        "\n",
        "## Approach\n",
        "\n",
        "The project follows these main steps:\n",
        "\n",
        "1. **Data Preparation:** Merging training and test datasets, calculating RUL, and defining feature columns.\n",
        "2. **Model Selection:** Utilizing Linear Regression as the chosen model for predicting RUL.\n",
        "3. **Training and Evaluation:** Training the model on the training set and evaluating its performance using metrics such as Mean Squared Error (MSE).\n",
        "\n",
        "## Goals\n",
        "\n",
        "- Develop a regression model to accurately predict the Remaining Useful Life of aircraft engines.\n",
        "- Understand the significance of various features in determining engine health.\n",
        "- Lay the groundwork for future explorations, potentially incorporating classification tasks for more nuanced predictions.\n",
        "\n",
        "Let's delve into the details of each step and explore the outcomes of our predictive maintenance model.\n"
      ],
      "metadata": {
        "id": "IOqJPwqUi5wk"
      }
    },
    {
      "cell_type": "markdown",
      "source": [
        "## Importing Libraries"
      ],
      "metadata": {
        "id": "mVYDYGiVi5wx"
      }
    },
    {
      "cell_type": "code",
      "source": [
        "import pandas as pd\n",
        "import numpy as np\n",
        "import matplotlib.pyplot as plt\n",
        "import seaborn as sns\n",
        "from sklearn.model_selection import train_test_split\n",
        "from sklearn.linear_model import LinearRegression\n",
        "from sklearn.metrics import accuracy_score, classification_report"
      ],
      "metadata": {
        "execution": {
          "iopub.status.busy": "2024-01-24T11:47:39.348407Z",
          "iopub.execute_input": "2024-01-24T11:47:39.348853Z",
          "iopub.status.idle": "2024-01-24T11:47:39.355719Z",
          "shell.execute_reply.started": "2024-01-24T11:47:39.34882Z",
          "shell.execute_reply": "2024-01-24T11:47:39.354336Z"
        },
        "trusted": true,
        "id": "XIWBFhXNi5wy"
      },
      "execution_count": null,
      "outputs": []
    },
    {
      "cell_type": "markdown",
      "source": [
        "## Loading Datasets\n",
        "- **df_train, df_test, df_truth:** Reading datasets from Excel files that contain information about aircraft engine performance.\n"
      ],
      "metadata": {
        "id": "HUaNEmpji5wy"
      }
    },
    {
      "cell_type": "code",
      "source": [
        "df_train = pd.read_excel(r'/kaggle/input/aircraft-sensor-and-engine-performance/Dataset/PM_train.xlsx')\n",
        "df_test = pd.read_excel(r'/kaggle/input/aircraft-sensor-and-engine-performance/Dataset/PM_test.xlsx')\n",
        "df_truth = pd.read_excel(r'/kaggle/input/aircraft-sensor-and-engine-performance/Dataset/PM_truth.xlsx')"
      ],
      "metadata": {
        "execution": {
          "iopub.status.busy": "2024-01-24T10:54:57.480891Z",
          "iopub.execute_input": "2024-01-24T10:54:57.482112Z",
          "iopub.status.idle": "2024-01-24T10:55:16.025329Z",
          "shell.execute_reply.started": "2024-01-24T10:54:57.482061Z",
          "shell.execute_reply": "2024-01-24T10:55:16.023908Z"
        },
        "trusted": true,
        "id": "dGYwa5Cvi5wz"
      },
      "execution_count": null,
      "outputs": []
    },
    {
      "cell_type": "markdown",
      "source": [
        "## Data Concatenation\n",
        "- **Concatenation:** Combining `df_train` and `df_test` into a single dataframe (`df`) to work with the entire dataset."
      ],
      "metadata": {
        "id": "mbFMXmsHi5w7"
      }
    },
    {
      "cell_type": "code",
      "source": [
        "df = pd.concat([df_train, df_test], ignore_index=True)\n",
        "df.head()"
      ],
      "metadata": {
        "execution": {
          "iopub.status.busy": "2024-01-24T12:23:50.969504Z",
          "iopub.execute_input": "2024-01-24T12:23:50.969959Z",
          "iopub.status.idle": "2024-01-24T12:23:51.009129Z",
          "shell.execute_reply.started": "2024-01-24T12:23:50.969926Z",
          "shell.execute_reply": "2024-01-24T12:23:51.007706Z"
        },
        "trusted": true,
        "id": "O9uqZbdni5w8",
        "outputId": "87b151e2-f2bd-4c1f-b65c-90000be34a2d",
        "colab": {
          "base_uri": "https://localhost:8080/",
          "height": 236
        }
      },
      "execution_count": null,
      "outputs": [
        {
          "output_type": "execute_result",
          "data": {
            "text/plain": [
              "   id  cycle  setting1  setting2  setting3      s1      s2       s3       s4  \\\n",
              "0   1      1   -0.0007   -0.0004       100  518.67  641.82  1589.70  1400.60   \n",
              "1   1      2    0.0019   -0.0003       100  518.67  642.15  1591.82  1403.14   \n",
              "2   1      3   -0.0043    0.0003       100  518.67  642.35  1587.99  1404.20   \n",
              "3   1      4    0.0007    0.0000       100  518.67  642.35  1582.79  1401.87   \n",
              "4   1      5   -0.0019   -0.0002       100  518.67  642.37  1582.85  1406.22   \n",
              "\n",
              "      s5  ...     s12      s13      s14     s15   s16    s17   s18  s19  \\\n",
              "0  14.62  ...  521.66  2388.02  8138.62  8.4195  0.03  392.0  2388  100   \n",
              "1  14.62  ...  522.28  2388.07  8131.49  8.4318  0.03  392.0  2388  100   \n",
              "2  14.62  ...  522.42  2388.03  8133.23  8.4178  0.03  390.0  2388  100   \n",
              "3  14.62  ...  522.86  2388.08  8133.83  8.3682  0.03  392.0  2388  100   \n",
              "4  14.62  ...  522.19  2388.04  8133.80  8.4294  0.03  393.0  2388  100   \n",
              "\n",
              "     s20      s21  \n",
              "0  39.06  23.4190  \n",
              "1  39.00  23.4236  \n",
              "2  38.95  23.3442  \n",
              "3  38.88  23.3739  \n",
              "4  38.90  23.4044  \n",
              "\n",
              "[5 rows x 26 columns]"
            ],
            "text/html": [
              "\n",
              "  <div id=\"df-67f313cd-38ae-40b8-8488-cea11926a73d\" class=\"colab-df-container\">\n",
              "    <div>\n",
              "<style scoped>\n",
              "    .dataframe tbody tr th:only-of-type {\n",
              "        vertical-align: middle;\n",
              "    }\n",
              "\n",
              "    .dataframe tbody tr th {\n",
              "        vertical-align: top;\n",
              "    }\n",
              "\n",
              "    .dataframe thead th {\n",
              "        text-align: right;\n",
              "    }\n",
              "</style>\n",
              "<table border=\"1\" class=\"dataframe\">\n",
              "  <thead>\n",
              "    <tr style=\"text-align: right;\">\n",
              "      <th></th>\n",
              "      <th>id</th>\n",
              "      <th>cycle</th>\n",
              "      <th>setting1</th>\n",
              "      <th>setting2</th>\n",
              "      <th>setting3</th>\n",
              "      <th>s1</th>\n",
              "      <th>s2</th>\n",
              "      <th>s3</th>\n",
              "      <th>s4</th>\n",
              "      <th>s5</th>\n",
              "      <th>...</th>\n",
              "      <th>s12</th>\n",
              "      <th>s13</th>\n",
              "      <th>s14</th>\n",
              "      <th>s15</th>\n",
              "      <th>s16</th>\n",
              "      <th>s17</th>\n",
              "      <th>s18</th>\n",
              "      <th>s19</th>\n",
              "      <th>s20</th>\n",
              "      <th>s21</th>\n",
              "    </tr>\n",
              "  </thead>\n",
              "  <tbody>\n",
              "    <tr>\n",
              "      <th>0</th>\n",
              "      <td>1</td>\n",
              "      <td>1</td>\n",
              "      <td>-0.0007</td>\n",
              "      <td>-0.0004</td>\n",
              "      <td>100</td>\n",
              "      <td>518.67</td>\n",
              "      <td>641.82</td>\n",
              "      <td>1589.70</td>\n",
              "      <td>1400.60</td>\n",
              "      <td>14.62</td>\n",
              "      <td>...</td>\n",
              "      <td>521.66</td>\n",
              "      <td>2388.02</td>\n",
              "      <td>8138.62</td>\n",
              "      <td>8.4195</td>\n",
              "      <td>0.03</td>\n",
              "      <td>392.0</td>\n",
              "      <td>2388</td>\n",
              "      <td>100</td>\n",
              "      <td>39.06</td>\n",
              "      <td>23.4190</td>\n",
              "    </tr>\n",
              "    <tr>\n",
              "      <th>1</th>\n",
              "      <td>1</td>\n",
              "      <td>2</td>\n",
              "      <td>0.0019</td>\n",
              "      <td>-0.0003</td>\n",
              "      <td>100</td>\n",
              "      <td>518.67</td>\n",
              "      <td>642.15</td>\n",
              "      <td>1591.82</td>\n",
              "      <td>1403.14</td>\n",
              "      <td>14.62</td>\n",
              "      <td>...</td>\n",
              "      <td>522.28</td>\n",
              "      <td>2388.07</td>\n",
              "      <td>8131.49</td>\n",
              "      <td>8.4318</td>\n",
              "      <td>0.03</td>\n",
              "      <td>392.0</td>\n",
              "      <td>2388</td>\n",
              "      <td>100</td>\n",
              "      <td>39.00</td>\n",
              "      <td>23.4236</td>\n",
              "    </tr>\n",
              "    <tr>\n",
              "      <th>2</th>\n",
              "      <td>1</td>\n",
              "      <td>3</td>\n",
              "      <td>-0.0043</td>\n",
              "      <td>0.0003</td>\n",
              "      <td>100</td>\n",
              "      <td>518.67</td>\n",
              "      <td>642.35</td>\n",
              "      <td>1587.99</td>\n",
              "      <td>1404.20</td>\n",
              "      <td>14.62</td>\n",
              "      <td>...</td>\n",
              "      <td>522.42</td>\n",
              "      <td>2388.03</td>\n",
              "      <td>8133.23</td>\n",
              "      <td>8.4178</td>\n",
              "      <td>0.03</td>\n",
              "      <td>390.0</td>\n",
              "      <td>2388</td>\n",
              "      <td>100</td>\n",
              "      <td>38.95</td>\n",
              "      <td>23.3442</td>\n",
              "    </tr>\n",
              "    <tr>\n",
              "      <th>3</th>\n",
              "      <td>1</td>\n",
              "      <td>4</td>\n",
              "      <td>0.0007</td>\n",
              "      <td>0.0000</td>\n",
              "      <td>100</td>\n",
              "      <td>518.67</td>\n",
              "      <td>642.35</td>\n",
              "      <td>1582.79</td>\n",
              "      <td>1401.87</td>\n",
              "      <td>14.62</td>\n",
              "      <td>...</td>\n",
              "      <td>522.86</td>\n",
              "      <td>2388.08</td>\n",
              "      <td>8133.83</td>\n",
              "      <td>8.3682</td>\n",
              "      <td>0.03</td>\n",
              "      <td>392.0</td>\n",
              "      <td>2388</td>\n",
              "      <td>100</td>\n",
              "      <td>38.88</td>\n",
              "      <td>23.3739</td>\n",
              "    </tr>\n",
              "    <tr>\n",
              "      <th>4</th>\n",
              "      <td>1</td>\n",
              "      <td>5</td>\n",
              "      <td>-0.0019</td>\n",
              "      <td>-0.0002</td>\n",
              "      <td>100</td>\n",
              "      <td>518.67</td>\n",
              "      <td>642.37</td>\n",
              "      <td>1582.85</td>\n",
              "      <td>1406.22</td>\n",
              "      <td>14.62</td>\n",
              "      <td>...</td>\n",
              "      <td>522.19</td>\n",
              "      <td>2388.04</td>\n",
              "      <td>8133.80</td>\n",
              "      <td>8.4294</td>\n",
              "      <td>0.03</td>\n",
              "      <td>393.0</td>\n",
              "      <td>2388</td>\n",
              "      <td>100</td>\n",
              "      <td>38.90</td>\n",
              "      <td>23.4044</td>\n",
              "    </tr>\n",
              "  </tbody>\n",
              "</table>\n",
              "<p>5 rows × 26 columns</p>\n",
              "</div>\n",
              "    <div class=\"colab-df-buttons\">\n",
              "\n",
              "  <div class=\"colab-df-container\">\n",
              "    <button class=\"colab-df-convert\" onclick=\"convertToInteractive('df-67f313cd-38ae-40b8-8488-cea11926a73d')\"\n",
              "            title=\"Convert this dataframe to an interactive table.\"\n",
              "            style=\"display:none;\">\n",
              "\n",
              "  <svg xmlns=\"http://www.w3.org/2000/svg\" height=\"24px\" viewBox=\"0 -960 960 960\">\n",
              "    <path d=\"M120-120v-720h720v720H120Zm60-500h600v-160H180v160Zm220 220h160v-160H400v160Zm0 220h160v-160H400v160ZM180-400h160v-160H180v160Zm440 0h160v-160H620v160ZM180-180h160v-160H180v160Zm440 0h160v-160H620v160Z\"/>\n",
              "  </svg>\n",
              "    </button>\n",
              "\n",
              "  <style>\n",
              "    .colab-df-container {\n",
              "      display:flex;\n",
              "      gap: 12px;\n",
              "    }\n",
              "\n",
              "    .colab-df-convert {\n",
              "      background-color: #E8F0FE;\n",
              "      border: none;\n",
              "      border-radius: 50%;\n",
              "      cursor: pointer;\n",
              "      display: none;\n",
              "      fill: #1967D2;\n",
              "      height: 32px;\n",
              "      padding: 0 0 0 0;\n",
              "      width: 32px;\n",
              "    }\n",
              "\n",
              "    .colab-df-convert:hover {\n",
              "      background-color: #E2EBFA;\n",
              "      box-shadow: 0px 1px 2px rgba(60, 64, 67, 0.3), 0px 1px 3px 1px rgba(60, 64, 67, 0.15);\n",
              "      fill: #174EA6;\n",
              "    }\n",
              "\n",
              "    .colab-df-buttons div {\n",
              "      margin-bottom: 4px;\n",
              "    }\n",
              "\n",
              "    [theme=dark] .colab-df-convert {\n",
              "      background-color: #3B4455;\n",
              "      fill: #D2E3FC;\n",
              "    }\n",
              "\n",
              "    [theme=dark] .colab-df-convert:hover {\n",
              "      background-color: #434B5C;\n",
              "      box-shadow: 0px 1px 3px 1px rgba(0, 0, 0, 0.15);\n",
              "      filter: drop-shadow(0px 1px 2px rgba(0, 0, 0, 0.3));\n",
              "      fill: #FFFFFF;\n",
              "    }\n",
              "  </style>\n",
              "\n",
              "    <script>\n",
              "      const buttonEl =\n",
              "        document.querySelector('#df-67f313cd-38ae-40b8-8488-cea11926a73d button.colab-df-convert');\n",
              "      buttonEl.style.display =\n",
              "        google.colab.kernel.accessAllowed ? 'block' : 'none';\n",
              "\n",
              "      async function convertToInteractive(key) {\n",
              "        const element = document.querySelector('#df-67f313cd-38ae-40b8-8488-cea11926a73d');\n",
              "        const dataTable =\n",
              "          await google.colab.kernel.invokeFunction('convertToInteractive',\n",
              "                                                    [key], {});\n",
              "        if (!dataTable) return;\n",
              "\n",
              "        const docLinkHtml = 'Like what you see? Visit the ' +\n",
              "          '<a target=\"_blank\" href=https://colab.research.google.com/notebooks/data_table.ipynb>data table notebook</a>'\n",
              "          + ' to learn more about interactive tables.';\n",
              "        element.innerHTML = '';\n",
              "        dataTable['output_type'] = 'display_data';\n",
              "        await google.colab.output.renderOutput(dataTable, element);\n",
              "        const docLink = document.createElement('div');\n",
              "        docLink.innerHTML = docLinkHtml;\n",
              "        element.appendChild(docLink);\n",
              "      }\n",
              "    </script>\n",
              "  </div>\n",
              "\n",
              "\n",
              "<div id=\"df-1353083d-de80-4b98-ace0-020be1e7b389\">\n",
              "  <button class=\"colab-df-quickchart\" onclick=\"quickchart('df-1353083d-de80-4b98-ace0-020be1e7b389')\"\n",
              "            title=\"Suggest charts\"\n",
              "            style=\"display:none;\">\n",
              "\n",
              "<svg xmlns=\"http://www.w3.org/2000/svg\" height=\"24px\"viewBox=\"0 0 24 24\"\n",
              "     width=\"24px\">\n",
              "    <g>\n",
              "        <path d=\"M19 3H5c-1.1 0-2 .9-2 2v14c0 1.1.9 2 2 2h14c1.1 0 2-.9 2-2V5c0-1.1-.9-2-2-2zM9 17H7v-7h2v7zm4 0h-2V7h2v10zm4 0h-2v-4h2v4z\"/>\n",
              "    </g>\n",
              "</svg>\n",
              "  </button>\n",
              "\n",
              "<style>\n",
              "  .colab-df-quickchart {\n",
              "      --bg-color: #E8F0FE;\n",
              "      --fill-color: #1967D2;\n",
              "      --hover-bg-color: #E2EBFA;\n",
              "      --hover-fill-color: #174EA6;\n",
              "      --disabled-fill-color: #AAA;\n",
              "      --disabled-bg-color: #DDD;\n",
              "  }\n",
              "\n",
              "  [theme=dark] .colab-df-quickchart {\n",
              "      --bg-color: #3B4455;\n",
              "      --fill-color: #D2E3FC;\n",
              "      --hover-bg-color: #434B5C;\n",
              "      --hover-fill-color: #FFFFFF;\n",
              "      --disabled-bg-color: #3B4455;\n",
              "      --disabled-fill-color: #666;\n",
              "  }\n",
              "\n",
              "  .colab-df-quickchart {\n",
              "    background-color: var(--bg-color);\n",
              "    border: none;\n",
              "    border-radius: 50%;\n",
              "    cursor: pointer;\n",
              "    display: none;\n",
              "    fill: var(--fill-color);\n",
              "    height: 32px;\n",
              "    padding: 0;\n",
              "    width: 32px;\n",
              "  }\n",
              "\n",
              "  .colab-df-quickchart:hover {\n",
              "    background-color: var(--hover-bg-color);\n",
              "    box-shadow: 0 1px 2px rgba(60, 64, 67, 0.3), 0 1px 3px 1px rgba(60, 64, 67, 0.15);\n",
              "    fill: var(--button-hover-fill-color);\n",
              "  }\n",
              "\n",
              "  .colab-df-quickchart-complete:disabled,\n",
              "  .colab-df-quickchart-complete:disabled:hover {\n",
              "    background-color: var(--disabled-bg-color);\n",
              "    fill: var(--disabled-fill-color);\n",
              "    box-shadow: none;\n",
              "  }\n",
              "\n",
              "  .colab-df-spinner {\n",
              "    border: 2px solid var(--fill-color);\n",
              "    border-color: transparent;\n",
              "    border-bottom-color: var(--fill-color);\n",
              "    animation:\n",
              "      spin 1s steps(1) infinite;\n",
              "  }\n",
              "\n",
              "  @keyframes spin {\n",
              "    0% {\n",
              "      border-color: transparent;\n",
              "      border-bottom-color: var(--fill-color);\n",
              "      border-left-color: var(--fill-color);\n",
              "    }\n",
              "    20% {\n",
              "      border-color: transparent;\n",
              "      border-left-color: var(--fill-color);\n",
              "      border-top-color: var(--fill-color);\n",
              "    }\n",
              "    30% {\n",
              "      border-color: transparent;\n",
              "      border-left-color: var(--fill-color);\n",
              "      border-top-color: var(--fill-color);\n",
              "      border-right-color: var(--fill-color);\n",
              "    }\n",
              "    40% {\n",
              "      border-color: transparent;\n",
              "      border-right-color: var(--fill-color);\n",
              "      border-top-color: var(--fill-color);\n",
              "    }\n",
              "    60% {\n",
              "      border-color: transparent;\n",
              "      border-right-color: var(--fill-color);\n",
              "    }\n",
              "    80% {\n",
              "      border-color: transparent;\n",
              "      border-right-color: var(--fill-color);\n",
              "      border-bottom-color: var(--fill-color);\n",
              "    }\n",
              "    90% {\n",
              "      border-color: transparent;\n",
              "      border-bottom-color: var(--fill-color);\n",
              "    }\n",
              "  }\n",
              "</style>\n",
              "\n",
              "  <script>\n",
              "    async function quickchart(key) {\n",
              "      const quickchartButtonEl =\n",
              "        document.querySelector('#' + key + ' button');\n",
              "      quickchartButtonEl.disabled = true;  // To prevent multiple clicks.\n",
              "      quickchartButtonEl.classList.add('colab-df-spinner');\n",
              "      try {\n",
              "        const charts = await google.colab.kernel.invokeFunction(\n",
              "            'suggestCharts', [key], {});\n",
              "      } catch (error) {\n",
              "        console.error('Error during call to suggestCharts:', error);\n",
              "      }\n",
              "      quickchartButtonEl.classList.remove('colab-df-spinner');\n",
              "      quickchartButtonEl.classList.add('colab-df-quickchart-complete');\n",
              "    }\n",
              "    (() => {\n",
              "      let quickchartButtonEl =\n",
              "        document.querySelector('#df-1353083d-de80-4b98-ace0-020be1e7b389 button');\n",
              "      quickchartButtonEl.style.display =\n",
              "        google.colab.kernel.accessAllowed ? 'block' : 'none';\n",
              "    })();\n",
              "  </script>\n",
              "</div>\n",
              "\n",
              "    </div>\n",
              "  </div>\n"
            ],
            "application/vnd.google.colaboratory.intrinsic+json": {
              "type": "dataframe",
              "variable_name": "df"
            }
          },
          "metadata": {},
          "execution_count": 4
        }
      ]
    },
    {
      "cell_type": "code",
      "source": [
        "df.columns"
      ],
      "metadata": {
        "execution": {
          "iopub.status.busy": "2024-01-24T11:16:00.14409Z",
          "iopub.execute_input": "2024-01-24T11:16:00.144535Z",
          "iopub.status.idle": "2024-01-24T11:16:00.153383Z",
          "shell.execute_reply.started": "2024-01-24T11:16:00.144503Z",
          "shell.execute_reply": "2024-01-24T11:16:00.152083Z"
        },
        "trusted": true,
        "id": "8YvVqodQi5xD",
        "outputId": "996f15b5-474e-43b6-e384-f8d14c3d3f7b",
        "colab": {
          "base_uri": "https://localhost:8080/"
        }
      },
      "execution_count": null,
      "outputs": [
        {
          "output_type": "execute_result",
          "data": {
            "text/plain": [
              "Index(['id', 'cycle', 'setting1', 'setting2', 'setting3', 's1', 's2', 's3',\n",
              "       's4', 's5', 's6', 's7', 's8', 's9', 's10', 's11', 's12', 's13', 's14',\n",
              "       's15', 's16', 's17', 's18', 's19', 's20', 's21'],\n",
              "      dtype='object')"
            ]
          },
          "metadata": {},
          "execution_count": 5
        }
      ]
    },
    {
      "cell_type": "markdown",
      "source": [
        "# Feature Engineering\n",
        "\n",
        "\n",
        "###    RUL\n",
        "\n",
        "Remaining Useful Life (RUL) is a crucial concept in predictive maintenance, representing the estimated operational lifespan or cycles remaining for an asset before it is expected to fail. In the context of aircraft engines, RUL helps anticipate the point at which an engine may no longer meet performance requirements. By calculating RUL, organizations can proactively plan maintenance activities, optimize resource allocation, and minimize downtime. This predictive approach enables timely interventions, reducing the risk of unexpected failures and enhancing the overall efficiency and reliability of the asset. RUL serves as a key metric for making informed decisions in maintenance and operational strategies.\n",
        "- **Remaining Useful Life (RUL):** Calculated by subtracting the current cycle from the maximum cycle for each engine.\n",
        "- **Feature Columns:** Defined a list of feature columns for model training."
      ],
      "metadata": {
        "id": "WKU0t46vi5xE"
      }
    },
    {
      "cell_type": "code",
      "source": [
        "df['RUL'] = df.groupby('id')['cycle'].transform(max) - df['cycle']\n",
        "feature_columns = ['setting1', 'setting2', 'setting3', 's1', 's2', 's3', 's4', 's5', 's6', 's7', 's8', 's9', 's10', 's11', 's12', 's13', 's14', 's15', 's16', 's17', 's18', 's19', 's20', 's21']"
      ],
      "metadata": {
        "execution": {
          "iopub.status.busy": "2024-01-24T11:16:00.788739Z",
          "iopub.execute_input": "2024-01-24T11:16:00.789193Z",
          "iopub.status.idle": "2024-01-24T11:16:00.798389Z",
          "shell.execute_reply.started": "2024-01-24T11:16:00.789158Z",
          "shell.execute_reply": "2024-01-24T11:16:00.797346Z"
        },
        "trusted": true,
        "id": "K6YYHvsii5xN"
      },
      "execution_count": null,
      "outputs": []
    },
    {
      "cell_type": "markdown",
      "source": [
        "## Merging Truth Data\n",
        "- **Merge Operation:** Combining `df` with truth data (`df_truth`) based on the engine ID, providing additional information for analysis."
      ],
      "metadata": {
        "id": "k_0OLXD6i5xN"
      }
    },
    {
      "cell_type": "code",
      "source": [
        "df = pd.merge(df, df_truth, on='id', how='left')"
      ],
      "metadata": {
        "execution": {
          "iopub.status.busy": "2024-01-24T12:10:44.384053Z",
          "iopub.execute_input": "2024-01-24T12:10:44.384557Z",
          "iopub.status.idle": "2024-01-24T12:10:44.400274Z",
          "shell.execute_reply.started": "2024-01-24T12:10:44.384479Z",
          "shell.execute_reply": "2024-01-24T12:10:44.399093Z"
        },
        "trusted": true,
        "id": "6dADmHlGi5xO"
      },
      "execution_count": null,
      "outputs": []
    },
    {
      "cell_type": "markdown",
      "source": [
        "## Labeling\n",
        "- **Threshold Labeling:** Creating a binary label ('label') based on a threshold of 30 for RUL, which helps in creating a classification problem."
      ],
      "metadata": {
        "id": "0Ye9zLu6i5xO"
      }
    },
    {
      "cell_type": "code",
      "source": [
        "threshold = 30\n",
        "df['label'] = (df['RUL'] <= threshold).astype(int)"
      ],
      "metadata": {
        "execution": {
          "iopub.status.busy": "2024-01-24T11:16:03.455427Z",
          "iopub.execute_input": "2024-01-24T11:16:03.456518Z",
          "iopub.status.idle": "2024-01-24T11:16:03.462657Z",
          "shell.execute_reply.started": "2024-01-24T11:16:03.456483Z",
          "shell.execute_reply": "2024-01-24T11:16:03.461489Z"
        },
        "trusted": true,
        "id": "mHDqe_Cui5xS"
      },
      "execution_count": null,
      "outputs": []
    },
    {
      "cell_type": "markdown",
      "source": [
        "## Train-Test Split\n",
        "- **Splitting Data:** Using the train-test split function to divide the data into training and testing sets. The model will be trained on the training set and evaluated on the testing set."
      ],
      "metadata": {
        "id": "yvYaIq80i5xT"
      }
    },
    {
      "cell_type": "code",
      "source": [
        "X_train, X_test, y_train, y_test = train_test_split(df[feature_columns], df['RUL'], test_size=0.2, random_state=42)"
      ],
      "metadata": {
        "execution": {
          "iopub.status.busy": "2024-01-24T11:16:53.470131Z",
          "iopub.execute_input": "2024-01-24T11:16:53.470558Z",
          "iopub.status.idle": "2024-01-24T11:16:53.491474Z",
          "shell.execute_reply.started": "2024-01-24T11:16:53.470525Z",
          "shell.execute_reply": "2024-01-24T11:16:53.489926Z"
        },
        "trusted": true,
        "id": "EbOx2rHGi5xT"
      },
      "execution_count": null,
      "outputs": []
    },
    {
      "cell_type": "markdown",
      "source": [
        "# Model Training\n",
        "- **Linear Regression Model:** Creating and training a linear regression model using the feature columns defined earlier."
      ],
      "metadata": {
        "id": "aVCU0HwJi5xT"
      }
    },
    {
      "cell_type": "code",
      "source": [
        "# Creating a linear regression model\n",
        "model = LinearRegression()\n",
        "# Train the model\n",
        "model.fit(X_train, y_train)"
      ],
      "metadata": {
        "execution": {
          "iopub.status.busy": "2024-01-24T12:24:24.633877Z",
          "iopub.execute_input": "2024-01-24T12:24:24.634411Z",
          "iopub.status.idle": "2024-01-24T12:24:24.683277Z",
          "shell.execute_reply.started": "2024-01-24T12:24:24.634378Z",
          "shell.execute_reply": "2024-01-24T12:24:24.681261Z"
        },
        "trusted": true,
        "id": "yJQWD8Qii5xU",
        "outputId": "7d505b9d-37cf-45fb-dacc-01c1c3aa16d7",
        "colab": {
          "base_uri": "https://localhost:8080/",
          "height": 75
        }
      },
      "execution_count": null,
      "outputs": [
        {
          "output_type": "execute_result",
          "data": {
            "text/plain": [
              "LinearRegression()"
            ],
            "text/html": [
              "<style>#sk-container-id-1 {color: black;background-color: white;}#sk-container-id-1 pre{padding: 0;}#sk-container-id-1 div.sk-toggleable {background-color: white;}#sk-container-id-1 label.sk-toggleable__label {cursor: pointer;display: block;width: 100%;margin-bottom: 0;padding: 0.3em;box-sizing: border-box;text-align: center;}#sk-container-id-1 label.sk-toggleable__label-arrow:before {content: \"▸\";float: left;margin-right: 0.25em;color: #696969;}#sk-container-id-1 label.sk-toggleable__label-arrow:hover:before {color: black;}#sk-container-id-1 div.sk-estimator:hover label.sk-toggleable__label-arrow:before {color: black;}#sk-container-id-1 div.sk-toggleable__content {max-height: 0;max-width: 0;overflow: hidden;text-align: left;background-color: #f0f8ff;}#sk-container-id-1 div.sk-toggleable__content pre {margin: 0.2em;color: black;border-radius: 0.25em;background-color: #f0f8ff;}#sk-container-id-1 input.sk-toggleable__control:checked~div.sk-toggleable__content {max-height: 200px;max-width: 100%;overflow: auto;}#sk-container-id-1 input.sk-toggleable__control:checked~label.sk-toggleable__label-arrow:before {content: \"▾\";}#sk-container-id-1 div.sk-estimator input.sk-toggleable__control:checked~label.sk-toggleable__label {background-color: #d4ebff;}#sk-container-id-1 div.sk-label input.sk-toggleable__control:checked~label.sk-toggleable__label {background-color: #d4ebff;}#sk-container-id-1 input.sk-hidden--visually {border: 0;clip: rect(1px 1px 1px 1px);clip: rect(1px, 1px, 1px, 1px);height: 1px;margin: -1px;overflow: hidden;padding: 0;position: absolute;width: 1px;}#sk-container-id-1 div.sk-estimator {font-family: monospace;background-color: #f0f8ff;border: 1px dotted black;border-radius: 0.25em;box-sizing: border-box;margin-bottom: 0.5em;}#sk-container-id-1 div.sk-estimator:hover {background-color: #d4ebff;}#sk-container-id-1 div.sk-parallel-item::after {content: \"\";width: 100%;border-bottom: 1px solid gray;flex-grow: 1;}#sk-container-id-1 div.sk-label:hover label.sk-toggleable__label {background-color: #d4ebff;}#sk-container-id-1 div.sk-serial::before {content: \"\";position: absolute;border-left: 1px solid gray;box-sizing: border-box;top: 0;bottom: 0;left: 50%;z-index: 0;}#sk-container-id-1 div.sk-serial {display: flex;flex-direction: column;align-items: center;background-color: white;padding-right: 0.2em;padding-left: 0.2em;position: relative;}#sk-container-id-1 div.sk-item {position: relative;z-index: 1;}#sk-container-id-1 div.sk-parallel {display: flex;align-items: stretch;justify-content: center;background-color: white;position: relative;}#sk-container-id-1 div.sk-item::before, #sk-container-id-1 div.sk-parallel-item::before {content: \"\";position: absolute;border-left: 1px solid gray;box-sizing: border-box;top: 0;bottom: 0;left: 50%;z-index: -1;}#sk-container-id-1 div.sk-parallel-item {display: flex;flex-direction: column;z-index: 1;position: relative;background-color: white;}#sk-container-id-1 div.sk-parallel-item:first-child::after {align-self: flex-end;width: 50%;}#sk-container-id-1 div.sk-parallel-item:last-child::after {align-self: flex-start;width: 50%;}#sk-container-id-1 div.sk-parallel-item:only-child::after {width: 0;}#sk-container-id-1 div.sk-dashed-wrapped {border: 1px dashed gray;margin: 0 0.4em 0.5em 0.4em;box-sizing: border-box;padding-bottom: 0.4em;background-color: white;}#sk-container-id-1 div.sk-label label {font-family: monospace;font-weight: bold;display: inline-block;line-height: 1.2em;}#sk-container-id-1 div.sk-label-container {text-align: center;}#sk-container-id-1 div.sk-container {/* jupyter's `normalize.less` sets `[hidden] { display: none; }` but bootstrap.min.css set `[hidden] { display: none !important; }` so we also need the `!important` here to be able to override the default hidden behavior on the sphinx rendered scikit-learn.org. See: https://github.com/scikit-learn/scikit-learn/issues/21755 */display: inline-block !important;position: relative;}#sk-container-id-1 div.sk-text-repr-fallback {display: none;}</style><div id=\"sk-container-id-1\" class=\"sk-top-container\"><div class=\"sk-text-repr-fallback\"><pre>LinearRegression()</pre><b>In a Jupyter environment, please rerun this cell to show the HTML representation or trust the notebook. <br />On GitHub, the HTML representation is unable to render, please try loading this page with nbviewer.org.</b></div><div class=\"sk-container\" hidden><div class=\"sk-item\"><div class=\"sk-estimator sk-toggleable\"><input class=\"sk-toggleable__control sk-hidden--visually\" id=\"sk-estimator-id-1\" type=\"checkbox\" checked><label for=\"sk-estimator-id-1\" class=\"sk-toggleable__label sk-toggleable__label-arrow\">LinearRegression</label><div class=\"sk-toggleable__content\"><pre>LinearRegression()</pre></div></div></div></div></div>"
            ]
          },
          "metadata": {},
          "execution_count": 10
        }
      ]
    },
    {
      "cell_type": "markdown",
      "source": [
        "## Prediction and Evaluation\n",
        "- **Making Predictions:** Applying the trained model to predict RUL on the test set.\n",
        "- **Binary Conversion:** Converting RUL values to binary labels (0 or 1) for evaluation as a classification problem.\n",
        "- **Evaluation Metrics:** Calculating accuracy and classification report metrics for assessing the model's performance."
      ],
      "metadata": {
        "id": "EEmUHHomi5xU"
      }
    },
    {
      "cell_type": "code",
      "source": [
        "# Make predictions on the test set\n",
        "y_pred = model.predict(X_test)\n",
        "\n",
        "# y_test contains the true labels and y_pred contains the predicted labels\n",
        "y_test_binary = (y_test <= threshold).astype(int)\n",
        "y_pred_binary = (y_pred <= threshold).astype(int)\n",
        "\n",
        "# Evaluate the model\n",
        "accuracy = accuracy_score(y_test_binary, y_pred_binary)\n",
        "print(f'Accuracy: {accuracy}')\n",
        "print(classification_report(y_test_binary, y_pred_binary))"
      ],
      "metadata": {
        "execution": {
          "iopub.status.busy": "2024-01-24T12:21:31.218763Z",
          "iopub.execute_input": "2024-01-24T12:21:31.219187Z",
          "iopub.status.idle": "2024-01-24T12:21:31.284322Z",
          "shell.execute_reply.started": "2024-01-24T12:21:31.21914Z",
          "shell.execute_reply": "2024-01-24T12:21:31.282105Z"
        },
        "trusted": true,
        "id": "CxVDlKB_i5xU",
        "outputId": "7b8f27e4-28dd-42b3-cb42-058d2f363b16",
        "colab": {
          "base_uri": "https://localhost:8080/"
        }
      },
      "execution_count": null,
      "outputs": [
        {
          "output_type": "stream",
          "name": "stdout",
          "text": [
            "Accuracy: 0.9455019957015659\n",
            "              precision    recall  f1-score   support\n",
            "\n",
            "           0       0.95      1.00      0.97      5883\n",
            "           1       0.91      0.48      0.63       631\n",
            "\n",
            "    accuracy                           0.95      6514\n",
            "   macro avg       0.93      0.74      0.80      6514\n",
            "weighted avg       0.94      0.95      0.94      6514\n",
            "\n"
          ]
        }
      ]
    },
    {
      "cell_type": "markdown",
      "source": [
        "# Conclusion\n",
        "\n",
        "In this project, we aimed to predict the Remaining Useful Life (RUL) of aircraft engines using a regression approach. The dataset, consisting of sensor readings and engine parameters, was utilized to train a Linear Regression model. The key steps in the project include:\n",
        "\n",
        "1. **Data Preprocessing:** Merging training and test datasets, calculating RUL, and defining feature columns.\n",
        "2. **Model Training:** A Linear Regression model was employed to predict the RUL based on the selected features.\n",
        "3. **Evaluation:** The model was evaluated using metrics like Mean Squared Error (MSE) and accuracy for a specific threshold.\n",
        "\n",
        "The Linear Regression model demonstrated promising results in predicting RUL. The accuracy and classification report indicate its effectiveness in estimating the remaining operational life of aircraft engines. However, it's important to note that no classification task was undertaken in this specific implementation.\n",
        "\n",
        "Future work may involve exploring classification models to predict binary outcomes related to engine health, such as whether an engine will fail within a certain time frame. This would provide a more nuanced understanding of maintenance needs and further enhance the practical applications of predictive maintenance strategies.\n"
      ],
      "metadata": {
        "id": "loIrbHFvi5xV"
      }
    }
  ]
}